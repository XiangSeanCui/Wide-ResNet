{
 "cells": [
  {
   "cell_type": "code",
   "execution_count": 1,
   "metadata": {
    "collapsed": false
   },
   "outputs": [
    {
     "name": "stderr",
     "output_type": "stream",
     "text": [
      "Using TensorFlow backend.\n"
     ]
    }
   ],
   "source": [
    "#Set the seed\n",
    "import numpy as np\n",
    "np.random.seed(578)\n",
    "import tensorflow as tf\n",
    "config = tf.ConfigProto()\n",
    "config.gpu_options.allow_growth = True\n",
    "import keras\n",
    "import matplotlib.pyplot as plt\n",
    "from keras.models import Model\n",
    "from keras.layers import Input, Add, Activation, Dropout, Flatten, Dense\n",
    "from keras.layers.convolutional import Convolution2D, MaxPooling2D, AveragePooling2D\n",
    "from keras.layers.normalization import BatchNormalization\n",
    "from keras.datasets import cifar10\n",
    "import keras.callbacks as callbacks\n",
    "import keras.utils.np_utils as kutils\n",
    "from keras.preprocessing.image import ImageDataGenerator\n",
    "from keras import backend as K\n",
    "import keras.utils.np_utils as kutils\n",
    "from keras.optimizers import SGD"
   ]
  },
  {
   "cell_type": "code",
   "execution_count": 2,
   "metadata": {
    "collapsed": true
   },
   "outputs": [],
   "source": [
    "#define the initial convolutional layer\n",
    "def First_setup(input):\n",
    "    #using he_normal initialization\n",
    "    mod = Convolution2D(16,  kernel_size=(3,3), padding = 'same', kernel_initializer='he_normal',  use_bias=False)(input)\n",
    "    mod = BatchNormalization(momentum=0.1, epsilon=1e-5, gamma_initializer='uniform')(mod)\n",
    "    mod = Activation('relu')(mod)\n",
    "    return mod"
   ]
  },
  {
   "cell_type": "code",
   "execution_count": 3,
   "metadata": {
    "collapsed": true
   },
   "outputs": [],
   "source": [
    "#define the block convolutional layer\n",
    "def convolution_block(input, mul=1, k=1, dropout=0):\n",
    "    start = input  \n",
    "    mod = BatchNormalization(momentum=0.1, epsilon=1e-5, gamma_initializer='uniform')(input)\n",
    "    mod = Activation('relu')(mod)\n",
    "    mod = Convolution2D(16*mul* k, kernel_size= (3, 3), padding='same', kernel_initializer='he_normal',use_bias=False)(mod)\n",
    "    #give the model a dropout option\n",
    "    if dropout != 0: \n",
    "        mod = Dropout(dropout)(mod)\n",
    "\n",
    "    mod = BatchNormalization(momentum=0.1, epsilon=1e-5, gamma_initializer='uniform')(mod)\n",
    "    mod = Activation('relu')(mod)\n",
    "    mod = Convolution2D(16*mul*k,  kernel_size=(3, 3), padding='same', kernel_initializer='he_normal',use_bias=False)(mod)\n",
    "    #Merge layer\n",
    "    result = Add()([start, mod])\n",
    "    return result"
   ]
  },
  {
   "cell_type": "code",
   "execution_count": 4,
   "metadata": {
    "collapsed": true
   },
   "outputs": [],
   "source": [
    "#define the layer that expand the convolution size\n",
    "def size_incre(input, mul, k, strides):\n",
    "    mod = Convolution2D(16*mul*k, kernel_size=(3, 3), padding='same', kernel_initializer='he_normal', use_bias=False, strides=strides)(input)\n",
    "    mod = BatchNormalization(momentum=0.1, epsilon=1e-5, gamma_initializer='uniform')(mod)\n",
    "    mod = Activation('relu')(mod)\n",
    "    mod = Convolution2D(16*mul*k,  kernel_size=(3, 3), padding='same', kernel_initializer='he_normal', use_bias=False)(mod)\n",
    "    temp = Convolution2D(16*mul*k,  kernel_size=(1, 1), padding='same', kernel_initializer='he_normal', use_bias=False, strides=strides)(input)\n",
    "    #Merge layer\n",
    "    result = Add()([mod, temp])\n",
    "    return result"
   ]
  },
  {
   "cell_type": "code",
   "execution_count": 5,
   "metadata": {
    "collapsed": true
   },
   "outputs": [],
   "source": [
    "def residual_network(dim, nb_classes, dropout=0):\n",
    "\n",
    "    init = Input(shape=dim)\n",
    "    #initial layer\n",
    "    mod = First_setup(init)\n",
    "    k=2\n",
    "    mod = size_incre(mod, 1, k,(1,1))\n",
    "    for temp in range(6):\n",
    "            mod = convolution_block(mod,1, k=2, dropout=dropout)\n",
    "\n",
    "    mod = BatchNormalization(momentum=0.1, epsilon=1e-5, gamma_initializer='uniform')(mod)\n",
    "    mod = Activation('relu')(mod)\n",
    "    \n",
    "    mod = size_incre(mod, 2, k,(2,2))\n",
    "    \n",
    "    for temp in range(6):\n",
    "            mod = convolution_block(mod,2, k, dropout=dropout)\n",
    "\n",
    "    mod = BatchNormalization(momentum=0.1, epsilon=1e-5, gamma_initializer='uniform')(mod)\n",
    "    mod = Activation('relu')(mod)\n",
    "\n",
    "    mod = size_incre(mod, 4, k,(2,2))\n",
    "    \n",
    "    for temp in range(6):\n",
    "        mod = convolution_block(mod,4, k, dropout=dropout)\n",
    "\n",
    "    mod = BatchNormalization(momentum=0.1, epsilon=1e-5, gamma_initializer='uniform')(mod)\n",
    "    mod = Activation('relu')(mod)\n",
    "    \n",
    "    mod = AveragePooling2D((8, 8))(mod)\n",
    "    mod = Flatten()(mod)\n",
    "\n",
    "    mod = Dense(10, activation='softmax')(mod)\n",
    "    return Model(init, mod)"
   ]
  },
  {
   "cell_type": "code",
   "execution_count": 6,
   "metadata": {
    "collapsed": true
   },
   "outputs": [],
   "source": [
    "from keras.datasets import cifar10\n",
    "batch_size = 100\n",
    "nb_epoch = 200\n",
    "\n",
    "(X_train, Y_train), (X_test, Y_test) = cifar10.load_data()\n",
    "X_train = X_train.astype('float64')\n",
    "X_test = X_test.astype('float64')"
   ]
  },
  {
   "cell_type": "code",
   "execution_count": 7,
   "metadata": {
    "collapsed": true
   },
   "outputs": [],
   "source": [
    "X_train = (X_train - X_train.mean(axis=0)) / (X_train.std(axis=0))\n",
    "X_test = (X_test - X_test.mean(axis=0)) / (X_test.std(axis=0))"
   ]
  },
  {
   "cell_type": "code",
   "execution_count": 8,
   "metadata": {
    "collapsed": true
   },
   "outputs": [],
   "source": [
    "Y_train = kutils.to_categorical(Y_train)\n",
    "Y_test = kutils.to_categorical(Y_test)"
   ]
  },
  {
   "cell_type": "code",
   "execution_count": 9,
   "metadata": {
    "collapsed": false
   },
   "outputs": [
    {
     "name": "stderr",
     "output_type": "stream",
     "text": [
      "/anaconda/lib/python2.7/site-packages/keras/preprocessing/image.py:514: UserWarning: This ImageDataGenerator specifies `zca_whitening`, which overrides setting of `featurewise_center`.\n",
      "  warnings.warn('This ImageDataGenerator specifies '\n"
     ]
    }
   ],
   "source": [
    "datagen = ImageDataGenerator(rotation_range=10,\n",
    "                               width_shift_range=5./32,\n",
    "                               height_shift_range=5./32,\n",
    "                               zca_whitening=True)"
   ]
  },
  {
   "cell_type": "code",
   "execution_count": 10,
   "metadata": {
    "collapsed": true
   },
   "outputs": [],
   "source": [
    "datagen.fit(X_train)"
   ]
  },
  {
   "cell_type": "code",
   "execution_count": 12,
   "metadata": {
    "collapsed": true
   },
   "outputs": [],
   "source": [
    "for i in range(len(X_test)):\n",
    "    X_test[i] = datagen.standardize(X_test[i])"
   ]
  },
  {
   "cell_type": "code",
   "execution_count": 11,
   "metadata": {
    "collapsed": true
   },
   "outputs": [],
   "source": [
    "model = residual_network(X_train.shape[1:], nb_classes=10)"
   ]
  },
  {
   "cell_type": "code",
   "execution_count": 12,
   "metadata": {
    "collapsed": true
   },
   "outputs": [],
   "source": [
    "def lr_schedule(epoch):\n",
    "    lr = 0.1\n",
    "    if epoch > 60:\n",
    "        lr = 0.001\n",
    "    if epoch > 30:\n",
    "        lr = 0.01\n",
    "    print('Learning rate: ', lr)\n",
    "    return lr"
   ]
  },
  {
   "cell_type": "code",
   "execution_count": 12,
   "metadata": {
    "collapsed": true
   },
   "outputs": [],
   "source": [
    "model.compile(loss='categorical_crossentropy',\n",
    "              optimizer='adam',\n",
    "              metrics=['accuracy'])"
   ]
  },
  {
   "cell_type": "code",
   "execution_count": 13,
   "metadata": {
    "collapsed": true
   },
   "outputs": [],
   "source": [
    "class SaveHistory(keras.callbacks.Callback):\n",
    "    def on_train_begin(self, logs={}):\n",
    "        self.losses_train=[]\n",
    "        self.acc_train=[]\n",
    "        self.losses_test=[]\n",
    "        self.acc_test=[]\n",
    "    def on_epoch_end(self, epoch, logs={}):\n",
    "        self.losses_train.append(logs.get('loss'))\n",
    "        self.acc_train.append(logs.get('acc'))\n",
    "        self.losses_test.append(logs.get('val_loss'))\n",
    "        self.acc_test.append(logs.get('val_acc'))\n",
    "history =SaveHistory()"
   ]
  },
  {
   "cell_type": "code",
   "execution_count": 14,
   "metadata": {
    "collapsed": true
   },
   "outputs": [],
   "source": [
    "batch_size = 100\n",
    "epochs = 200"
   ]
  },
  {
   "cell_type": "code",
   "execution_count": null,
   "metadata": {
    "collapsed": true
   },
   "outputs": [],
   "source": [
    "model.fit_generator(datagen.flow(X_train, Y_train,\n",
    "                                 batch_size=batch_size),\n",
    "                    steps_per_epoch=X_train.shape[0] // batch_size,\n",
    "                    epochs=epochs,\n",
    "                    validation_data=(X_test, Y_test),validation_steps=X_test.shape[0] // batch_size, callbacks=[history])"
   ]
  },
  {
   "cell_type": "code",
   "execution_count": 82,
   "metadata": {
    "collapsed": true
   },
   "outputs": [],
   "source": [
    "import pandas as pd\n",
    "df = pd.DataFrame({'test_loss':history.losses_test, \n",
    "                   'train_loss':history.losses_train,\n",
    "                   'test_acc': history.acc_test, \n",
    "                   'train_acc': history.acc_train \n",
    "                  })"
   ]
  },
  {
   "cell_type": "code",
   "execution_count": 66,
   "metadata": {
    "collapsed": true
   },
   "outputs": [],
   "source": [
    "df.to_csv(\"resnet_paper.csv\")"
   ]
  },
  {
   "cell_type": "code",
   "execution_count": 67,
   "metadata": {
    "collapsed": false
   },
   "outputs": [
    {
     "data": {
      "text/plain": [
       "[<matplotlib.lines.Line2D at 0x1a323b54518>]"
      ]
     },
     "execution_count": 67,
     "metadata": {},
     "output_type": "execute_result"
    },
    {
     "data": {
      "image/png": "[encoded data removed]",
      "text/plain": [
       "<Figure size 432x288 with 1 Axes>"
      ]
     },
     "metadata": {},
     "output_type": "display_data"
    }
   ],
   "source": [
    "import matplotlib.pyplot as plt\n",
    "plt.plot(range(1,201),df['test_acc'])\n",
    "plt.plot(range(1,201),df['train_acc'])"
   ]
  },
  {
   "cell_type": "code",
   "execution_count": 68,
   "metadata": {
    "collapsed": false
   },
   "outputs": [
    {
     "data": {
      "text/plain": [
       "0.8994000017642975"
      ]
     },
     "execution_count": 68,
     "metadata": {},
     "output_type": "execute_result"
    }
   ],
   "source": [
    "import numpy as np\n",
    "np.max(df['test_acc'])"
   ]
  },
  {
   "cell_type": "code",
   "execution_count": null,
   "metadata": {
    "collapsed": true
   },
   "outputs": [],
   "source": []
  }
 ],
 "metadata": {
  "kernelspec": {
   "display_name": "Python 2",
   "language": "python",
   "name": "python2"
  },
  "language_info": {
   "codemirror_mode": {
    "name": "ipython",
    "version": 2
   },
   "file_extension": ".py",
   "mimetype": "text/x-python",
   "name": "python",
   "nbconvert_exporter": "python",
   "pygments_lexer": "ipython2",
   "version": "2.7.13"
  }
 },
 "nbformat": 4,
 "nbformat_minor": 2
}

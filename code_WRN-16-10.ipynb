{
 "cells": [
  {
   "cell_type": "code",
   "execution_count": 1,
   "metadata": {},
   "outputs": [
    {
     "name": "stderr",
     "output_type": "stream",
     "text": [
      "C:\\Users\\xiang\\Anaconda3\\envs\\tensorflow\\lib\\site-packages\\h5py\\__init__.py:36: FutureWarning: Conversion of the second argument of issubdtype from `float` to `np.floating` is deprecated. In future, it will be treated as `np.float64 == np.dtype(float).type`.\n",
      "  from ._conv import register_converters as _register_converters\n",
      "Using TensorFlow backend.\n"
     ]
    }
   ],
   "source": [
    "#Set the seed\n",
    "import numpy as np\n",
    "np.random.seed(578)\n",
    "import tensorflow as tf\n",
    "config = tf.ConfigProto()\n",
    "config.gpu_options.allow_growth = True\n",
    "import keras\n",
    "import matplotlib.pyplot as plt\n",
    "from keras.models import Model\n",
    "from keras.layers import Input, Add, Activation, Dropout, Flatten, Dense\n",
    "from keras.layers.convolutional import Convolution2D, MaxPooling2D, AveragePooling2D\n",
    "from keras.layers.normalization import BatchNormalization\n",
    "from keras.datasets import cifar10\n",
    "import keras.callbacks as callbacks\n",
    "import keras.utils.np_utils as kutils\n",
    "from keras.preprocessing.image import ImageDataGenerator\n",
    "from keras import backend as K\n",
    "import keras.utils.np_utils as kutils"
   ]
  },
  {
   "cell_type": "code",
   "execution_count": 2,
   "metadata": {},
   "outputs": [],
   "source": [
    "#define the initial convolutional layer\n",
    "def First_setup(input):\n",
    "    #using he_normal initialization\n",
    "    mod = Convolution2D(16,  kernel_size=(3,3), padding = 'same', kernel_initializer='he_normal',  use_bias=False)(input)\n",
    "    mod = BatchNormalization(momentum=0.1, epsilon=1e-5, gamma_initializer='uniform')(mod)\n",
    "    mod = Activation('relu')(mod)\n",
    "    return mod"
   ]
  },
  {
   "cell_type": "code",
   "execution_count": 3,
   "metadata": {},
   "outputs": [],
   "source": [
    "#define the block convolutional layer\n",
    "def convolution_block(input, mul=1, k=1, dropout=0):\n",
    "    start = input\n",
    "    \n",
    "    mod = BatchNormalization(momentum=0.1, epsilon=1e-5, gamma_initializer='uniform')(input)\n",
    "    mod = Activation('relu')(mod)\n",
    "    mod = Convolution2D(16*mul* k, kernel_size= (3, 3), padding='same', kernel_initializer='he_normal',use_bias=False)(mod)\n",
    "    #give the model a dropout option\n",
    "    if dropout != 0: \n",
    "        mod = Dropout(dropout)(mod)\n",
    "\n",
    "    mod = BatchNormalization(momentum=0.1, epsilon=1e-5, gamma_initializer='uniform')(mod)\n",
    "    mod = Activation('relu')(mod)\n",
    "    mod = Convolution2D(16*mul*k,  kernel_size=(3, 3), padding='same', kernel_initializer='he_normal',use_bias=False)(mod)\n",
    "    #Merge layer\n",
    "    result = Add()([start, mod])\n",
    "    return result"
   ]
  },
  {
   "cell_type": "code",
   "execution_count": 4,
   "metadata": {},
   "outputs": [],
   "source": [
    "#define the layer that expand the convolution size\n",
    "def size_incre(input, mul, k, strides):\n",
    "    mod = Convolution2D(16*mul*k, kernel_size=(3, 3), padding='same', kernel_initializer='he_normal', use_bias=False, strides=strides)(input)\n",
    "    mod = BatchNormalization(momentum=0.1, epsilon=1e-5, gamma_initializer='uniform')(mod)\n",
    "    mod = Activation('relu')(mod)\n",
    "    mod = Convolution2D(16*mul*k,  kernel_size=(3, 3), padding='same', kernel_initializer='he_normal', use_bias=False)(mod)\n",
    "    temp = Convolution2D(16*mul*k,  kernel_size=(1, 1), padding='same', kernel_initializer='he_normal', use_bias=False, strides=strides)(input)\n",
    "    #Merge layer\n",
    "    result = Add()([mod, temp])\n",
    "    return result"
   ]
  },
  {
   "cell_type": "code",
   "execution_count": 5,
   "metadata": {},
   "outputs": [],
   "source": [
    "def wide_residual_network(dim, nb_classes, k=1, dropout=0):\n",
    "\n",
    "    init = Input(shape=dim)\n",
    "    #initial layer\n",
    "    mod = First_setup(init)\n",
    "    #increase layer\n",
    "    mod = size_incre(mod, 1, k,(1,1))\n",
    "    #First size\n",
    "    mod = convolution_block(mod,1, k, dropout=dropout)\n",
    "\n",
    "    mod = BatchNormalization(momentum=0.1, epsilon=1e-5, gamma_initializer='uniform')(mod)\n",
    "    mod = Activation('relu')(mod)\n",
    "\n",
    "    mod = size_incre(mod, 2, k,(2,2))\n",
    "    \n",
    "    mod = convolution_block(mod,2, k, dropout=dropout)\n",
    "\n",
    "    mod = BatchNormalization(momentum=0.1, epsilon=1e-5, gamma_initializer='uniform')(mod)\n",
    "    mod = Activation('relu')(mod)\n",
    "\n",
    "    mod = size_incre(mod, 4, k,(2,2))\n",
    "    \n",
    "    mod = convolution_block(mod,4, k, dropout=dropout)\n",
    "        \n",
    "    mod = BatchNormalization(momentum=0.1, epsilon=1e-5, gamma_initializer='uniform')(mod)\n",
    "    mod = Activation('relu')(mod)\n",
    "    \n",
    "    mod = AveragePooling2D((8, 8))(mod)\n",
    "    mod = Flatten()(mod)\n",
    "\n",
    "    mod = Dense(10, activation='softmax')(mod)\n",
    "    return Model(init, mod)"
   ]
  },
  {
   "cell_type": "code",
   "execution_count": 6,
   "metadata": {},
   "outputs": [],
   "source": [
    "from keras.datasets import cifar10\n",
    "batch_size = 100\n",
    "nb_epoch = 200\n",
    "\n",
    "(X_train, Y_train), (X_test, Y_test) = cifar10.load_data()\n",
    "X_train = X_train.astype('float64')\n",
    "X_test = X_test.astype('float64')"
   ]
  },
  {
   "cell_type": "code",
   "execution_count": 7,
   "metadata": {},
   "outputs": [],
   "source": [
    "X_train = (X_train - X_train.mean(axis=0)) / (X_train.std(axis=0))\n",
    "X_test = (X_test - X_test.mean(axis=0)) / (X_test.std(axis=0))"
   ]
  },
  {
   "cell_type": "code",
   "execution_count": 8,
   "metadata": {},
   "outputs": [],
   "source": [
    "Y_train = kutils.to_categorical(Y_train)\n",
    "Y_test = kutils.to_categorical(Y_test)"
   ]
  },
  {
   "cell_type": "code",
   "execution_count": 9,
   "metadata": {},
   "outputs": [
    {
     "data": {
      "text/plain": [
       "(50000, 3072)"
      ]
     },
     "execution_count": 9,
     "metadata": {},
     "output_type": "execute_result"
    }
   ],
   "source": [
    "X_train.reshape(X_train.shape[0], -1).shape"
   ]
  },
  {
   "cell_type": "code",
   "execution_count": 9,
   "metadata": {},
   "outputs": [
    {
     "name": "stderr",
     "output_type": "stream",
     "text": [
      "C:\\Users\\xiang\\Anaconda3\\envs\\tensorflow\\lib\\site-packages\\keras\\preprocessing\\image.py:514: UserWarning: This ImageDataGenerator specifies `zca_whitening`, which overrides setting of `featurewise_center`.\n",
      "  warnings.warn('This ImageDataGenerator specifies '\n"
     ]
    }
   ],
   "source": [
    "datagen = ImageDataGenerator(rotation_range=10,\n",
    "                               width_shift_range=5./32,\n",
    "                               height_shift_range=5./32,\n",
    "                               zca_whitening=True)"
   ]
  },
  {
   "cell_type": "code",
   "execution_count": 11,
   "metadata": {},
   "outputs": [],
   "source": [
    "datagen.fit(X_train)"
   ]
  },
  {
   "cell_type": "code",
   "execution_count": 12,
   "metadata": {},
   "outputs": [],
   "source": [
    "for i in range(len(X_test)):\n",
    "    X_test[i] = datagen.standardize(X_test[i])"
   ]
  },
  {
   "cell_type": "code",
   "execution_count": 10,
   "metadata": {},
   "outputs": [],
   "source": [
    "model = wide_residual_network(X_train.shape[1:], nb_classes=10,  k=10)"
   ]
  },
  {
   "cell_type": "code",
   "execution_count": 12,
   "metadata": {},
   "outputs": [],
   "source": [
    "model.compile(loss=\"categorical_crossentropy\", optimizer='adam', metrics=[\"acc\"])"
   ]
  },
  {
   "cell_type": "code",
   "execution_count": 13,
   "metadata": {},
   "outputs": [],
   "source": [
    "class SaveHistory(keras.callbacks.Callback):\n",
    "    def on_train_begin(self, logs={}):\n",
    "        self.losses_train=[]\n",
    "        self.acc_train=[]\n",
    "        self.losses_test=[]\n",
    "        self.acc_test=[]\n",
    "    def on_epoch_end(self, epoch, logs={}):\n",
    "        self.losses_train.append(logs.get('loss'))\n",
    "        self.acc_train.append(logs.get('acc'))\n",
    "        self.losses_test.append(logs.get('val_loss'))\n",
    "        self.acc_test.append(logs.get('val_acc'))\n",
    "history =SaveHistory()"
   ]
  },
  {
   "cell_type": "code",
   "execution_count": 14,
   "metadata": {},
   "outputs": [],
   "source": [
    "batch_size = 100\n",
    "epochs = 200"
   ]
  },
  {
   "cell_type": "code",
   "execution_count": 17,
   "metadata": {},
   "outputs": [
    {
     "name": "stdout",
     "output_type": "stream",
     "text": [
      "Epoch 1/200\n",
      "500/500 [==============================] - 216s 432ms/step - loss: 1.4667 - acc: 0.4561 - val_loss: 1.3305 - val_acc: 0.5534\n",
      "Epoch 2/200\n",
      "500/500 [==============================] - 211s 423ms/step - loss: 0.9558 - acc: 0.6597 - val_loss: 0.9988 - val_acc: 0.6625\n",
      "Epoch 3/200\n",
      "500/500 [==============================] - 212s 424ms/step - loss: 0.7391 - acc: 0.7418 - val_loss: 0.6956 - val_acc: 0.7608\n",
      "Epoch 4/200\n",
      "500/500 [==============================] - 212s 424ms/step - loss: 0.6012 - acc: 0.7916 - val_loss: 0.6142 - val_acc: 0.7907\n",
      "Epoch 5/200\n",
      "500/500 [==============================] - 213s 425ms/step - loss: 0.5018 - acc: 0.8276 - val_loss: 0.6797 - val_acc: 0.7821\n",
      "Epoch 6/200\n",
      "500/500 [==============================] - 213s 425ms/step - loss: 0.4403 - acc: 0.8480 - val_loss: 0.5324 - val_acc: 0.8221\n",
      "Epoch 7/200\n",
      "500/500 [==============================] - 213s 425ms/step - loss: 0.3912 - acc: 0.8640 - val_loss: 0.5875 - val_acc: 0.8131\n",
      "Epoch 8/200\n",
      "500/500 [==============================] - 213s 425ms/step - loss: 0.3513 - acc: 0.8790 - val_loss: 0.4570 - val_acc: 0.8475\n",
      "Epoch 9/200\n",
      "500/500 [==============================] - 212s 425ms/step - loss: 0.3201 - acc: 0.8901 - val_loss: 0.5197 - val_acc: 0.8416\n",
      "Epoch 10/200\n",
      "500/500 [==============================] - 212s 425ms/step - loss: 0.2846 - acc: 0.9006 - val_loss: 0.4607 - val_acc: 0.8556\n",
      "Epoch 11/200\n",
      "500/500 [==============================] - 212s 425ms/step - loss: 0.2626 - acc: 0.9085 - val_loss: 0.4112 - val_acc: 0.8708\n",
      "Epoch 12/200\n",
      "500/500 [==============================] - 212s 424ms/step - loss: 0.2354 - acc: 0.9177 - val_loss: 0.4926 - val_acc: 0.8497\n",
      "Epoch 13/200\n",
      "500/500 [==============================] - 212s 425ms/step - loss: 0.2119 - acc: 0.9263 - val_loss: 0.4326 - val_acc: 0.8688\n",
      "Epoch 14/200\n",
      "500/500 [==============================] - 212s 425ms/step - loss: 0.1919 - acc: 0.9325 - val_loss: 0.3960 - val_acc: 0.8828\n",
      "Epoch 15/200\n",
      "500/500 [==============================] - 213s 425ms/step - loss: 0.1837 - acc: 0.9352 - val_loss: 0.4108 - val_acc: 0.8768\n",
      "Epoch 16/200\n",
      "500/500 [==============================] - 212s 424ms/step - loss: 0.1602 - acc: 0.9431 - val_loss: 0.4496 - val_acc: 0.8771\n",
      "Epoch 17/200\n",
      "500/500 [==============================] - 212s 424ms/step - loss: 0.1512 - acc: 0.9462 - val_loss: 0.5021 - val_acc: 0.8646\n",
      "Epoch 18/200\n",
      "500/500 [==============================] - 212s 424ms/step - loss: 0.1359 - acc: 0.9527 - val_loss: 0.4170 - val_acc: 0.8800\n",
      "Epoch 19/200\n",
      "500/500 [==============================] - 212s 424ms/step - loss: 0.1321 - acc: 0.9532 - val_loss: 0.4867 - val_acc: 0.8722\n",
      "Epoch 20/200\n",
      "500/500 [==============================] - 212s 424ms/step - loss: 0.1172 - acc: 0.9581 - val_loss: 0.4954 - val_acc: 0.8743\n",
      "Epoch 21/200\n",
      "500/500 [==============================] - 212s 423ms/step - loss: 0.1113 - acc: 0.9613 - val_loss: 0.4472 - val_acc: 0.8836\n",
      "Epoch 22/200\n",
      "500/500 [==============================] - 212s 424ms/step - loss: 0.1071 - acc: 0.9618 - val_loss: 0.4356 - val_acc: 0.8891\n",
      "Epoch 23/200\n",
      "500/500 [==============================] - 212s 423ms/step - loss: 0.0969 - acc: 0.9660 - val_loss: 0.4103 - val_acc: 0.8907\n",
      "Epoch 24/200\n",
      "500/500 [==============================] - 212s 423ms/step - loss: 0.0923 - acc: 0.9672 - val_loss: 0.4614 - val_acc: 0.8827\n",
      "Epoch 25/200\n",
      "500/500 [==============================] - 212s 424ms/step - loss: 0.0881 - acc: 0.9682 - val_loss: 0.5475 - val_acc: 0.8765\n",
      "Epoch 26/200\n",
      "500/500 [==============================] - 212s 424ms/step - loss: 0.0836 - acc: 0.9706 - val_loss: 0.5285 - val_acc: 0.8795\n",
      "Epoch 27/200\n",
      "500/500 [==============================] - 212s 423ms/step - loss: 0.0779 - acc: 0.9737 - val_loss: 0.5456 - val_acc: 0.8767\n",
      "Epoch 28/200\n",
      "500/500 [==============================] - 212s 424ms/step - loss: 0.0732 - acc: 0.9741 - val_loss: 0.4752 - val_acc: 0.8873\n",
      "Epoch 29/200\n",
      "500/500 [==============================] - 212s 424ms/step - loss: 0.0798 - acc: 0.9723 - val_loss: 0.5365 - val_acc: 0.8782\n",
      "Epoch 30/200\n",
      "500/500 [==============================] - 212s 423ms/step - loss: 0.0746 - acc: 0.9742 - val_loss: 0.4415 - val_acc: 0.8965\n",
      "Epoch 31/200\n",
      "500/500 [==============================] - 212s 424ms/step - loss: 0.0612 - acc: 0.9786 - val_loss: 0.5400 - val_acc: 0.8811\n",
      "Epoch 32/200\n",
      "500/500 [==============================] - 212s 424ms/step - loss: 0.0625 - acc: 0.9780 - val_loss: 0.4675 - val_acc: 0.8955\n",
      "Epoch 33/200\n",
      "500/500 [==============================] - 212s 424ms/step - loss: 0.0686 - acc: 0.9762 - val_loss: 0.5511 - val_acc: 0.8791\n",
      "Epoch 34/200\n",
      "500/500 [==============================] - 212s 423ms/step - loss: 0.0619 - acc: 0.9781 - val_loss: 0.5088 - val_acc: 0.8896\n",
      "Epoch 35/200\n",
      "500/500 [==============================] - 212s 424ms/step - loss: 0.0578 - acc: 0.9794 - val_loss: 0.5099 - val_acc: 0.8916\n",
      "Epoch 36/200\n",
      "500/500 [==============================] - 212s 424ms/step - loss: 0.0575 - acc: 0.9804 - val_loss: 0.4979 - val_acc: 0.8939\n",
      "Epoch 37/200\n",
      "500/500 [==============================] - 212s 424ms/step - loss: 0.0522 - acc: 0.9825 - val_loss: 0.5489 - val_acc: 0.8830\n",
      "Epoch 38/200\n",
      "500/500 [==============================] - 212s 423ms/step - loss: 0.0544 - acc: 0.9812 - val_loss: 0.5309 - val_acc: 0.8856\n",
      "Epoch 39/200\n",
      "500/500 [==============================] - 212s 423ms/step - loss: 0.0528 - acc: 0.9815 - val_loss: 0.4629 - val_acc: 0.8980\n",
      "Epoch 40/200\n",
      "500/500 [==============================] - 212s 423ms/step - loss: 0.0518 - acc: 0.9822 - val_loss: 0.5414 - val_acc: 0.8913\n",
      "Epoch 41/200\n",
      "500/500 [==============================] - 212s 423ms/step - loss: 0.0506 - acc: 0.9824 - val_loss: 0.5447 - val_acc: 0.8869\n",
      "Epoch 42/200\n",
      "500/500 [==============================] - 212s 424ms/step - loss: 0.0456 - acc: 0.9841 - val_loss: 0.5111 - val_acc: 0.8940\n",
      "Epoch 43/200\n",
      "500/500 [==============================] - 212s 424ms/step - loss: 0.0449 - acc: 0.9842 - val_loss: 0.5258 - val_acc: 0.8942\n",
      "Epoch 44/200\n",
      "500/500 [==============================] - 212s 423ms/step - loss: 0.0468 - acc: 0.9834 - val_loss: 0.5361 - val_acc: 0.8913\n",
      "Epoch 45/200\n",
      "500/500 [==============================] - 212s 424ms/step - loss: 0.0423 - acc: 0.9852 - val_loss: 0.5549 - val_acc: 0.8924\n",
      "Epoch 46/200\n",
      "500/500 [==============================] - 212s 424ms/step - loss: 0.0448 - acc: 0.9848 - val_loss: 0.5090 - val_acc: 0.8962\n",
      "Epoch 47/200\n",
      "500/500 [==============================] - 212s 423ms/step - loss: 0.0392 - acc: 0.9867 - val_loss: 0.5413 - val_acc: 0.8938\n",
      "Epoch 48/200\n",
      "500/500 [==============================] - 212s 423ms/step - loss: 0.0439 - acc: 0.9847 - val_loss: 0.5399 - val_acc: 0.8923\n",
      "Epoch 49/200\n",
      "500/500 [==============================] - 212s 423ms/step - loss: 0.0445 - acc: 0.9850 - val_loss: 0.5525 - val_acc: 0.8932\n",
      "Epoch 50/200\n",
      "500/500 [==============================] - 212s 423ms/step - loss: 0.0350 - acc: 0.9878 - val_loss: 0.5191 - val_acc: 0.8976\n",
      "Epoch 51/200\n",
      "500/500 [==============================] - 212s 423ms/step - loss: 0.0379 - acc: 0.9871 - val_loss: 0.5121 - val_acc: 0.9013\n",
      "Epoch 52/200\n",
      "500/500 [==============================] - 212s 423ms/step - loss: 0.0385 - acc: 0.9867 - val_loss: 0.5378 - val_acc: 0.8957\n",
      "Epoch 53/200\n",
      "500/500 [==============================] - 212s 423ms/step - loss: 0.0369 - acc: 0.9872 - val_loss: 0.5351 - val_acc: 0.8928\n",
      "Epoch 54/200\n",
      "500/500 [==============================] - 212s 423ms/step - loss: 0.0385 - acc: 0.9868 - val_loss: 0.5069 - val_acc: 0.8981\n",
      "Epoch 55/200\n",
      "500/500 [==============================] - 212s 424ms/step - loss: 0.0353 - acc: 0.9881 - val_loss: 0.5339 - val_acc: 0.8992\n",
      "Epoch 56/200\n",
      "500/500 [==============================] - 212s 423ms/step - loss: 0.0339 - acc: 0.9885 - val_loss: 0.5946 - val_acc: 0.8867\n",
      "Epoch 57/200\n",
      "500/500 [==============================] - 212s 423ms/step - loss: 0.0350 - acc: 0.9876 - val_loss: 0.5465 - val_acc: 0.8955\n",
      "Epoch 58/200\n",
      "500/500 [==============================] - 211s 423ms/step - loss: 0.0354 - acc: 0.9880 - val_loss: 0.5677 - val_acc: 0.8909\n",
      "Epoch 59/200\n",
      "500/500 [==============================] - 212s 424ms/step - loss: 0.0319 - acc: 0.9893 - val_loss: 0.6734 - val_acc: 0.8811\n",
      "Epoch 60/200\n",
      "500/500 [==============================] - 212s 424ms/step - loss: 0.0337 - acc: 0.9884 - val_loss: 0.5799 - val_acc: 0.8925\n",
      "Epoch 61/200\n",
      "500/500 [==============================] - 212s 424ms/step - loss: 0.0331 - acc: 0.9882 - val_loss: 0.5820 - val_acc: 0.8923\n",
      "Epoch 62/200\n",
      "500/500 [==============================] - 211s 423ms/step - loss: 0.0307 - acc: 0.9895 - val_loss: 0.4793 - val_acc: 0.9061\n",
      "Epoch 63/200\n",
      "500/500 [==============================] - 211s 423ms/step - loss: 0.0327 - acc: 0.9884 - val_loss: 0.4924 - val_acc: 0.9045\n",
      "Epoch 64/200\n",
      "500/500 [==============================] - 211s 422ms/step - loss: 0.0314 - acc: 0.9896 - val_loss: 0.5401 - val_acc: 0.8986\n",
      "Epoch 65/200\n",
      "500/500 [==============================] - 211s 423ms/step - loss: 0.0270 - acc: 0.9909 - val_loss: 0.5896 - val_acc: 0.8918\n",
      "Epoch 66/200\n",
      "500/500 [==============================] - 211s 423ms/step - loss: 0.0277 - acc: 0.9909 - val_loss: 0.5641 - val_acc: 0.8965\n",
      "Epoch 67/200\n",
      "500/500 [==============================] - 211s 423ms/step - loss: 0.0286 - acc: 0.9903 - val_loss: 0.6340 - val_acc: 0.8852\n",
      "Epoch 68/200\n",
      "500/500 [==============================] - 211s 423ms/step - loss: 0.0293 - acc: 0.9898 - val_loss: 0.5796 - val_acc: 0.8956\n",
      "Epoch 69/200\n",
      "500/500 [==============================] - 211s 423ms/step - loss: 0.0299 - acc: 0.9903 - val_loss: 0.6237 - val_acc: 0.8892\n",
      "Epoch 70/200\n",
      "500/500 [==============================] - 212s 423ms/step - loss: 0.0279 - acc: 0.9908 - val_loss: 0.5606 - val_acc: 0.8946\n",
      "Epoch 71/200\n",
      "500/500 [==============================] - 211s 423ms/step - loss: 0.0246 - acc: 0.9915 - val_loss: 0.5648 - val_acc: 0.8916\n",
      "Epoch 72/200\n",
      "500/500 [==============================] - 211s 423ms/step - loss: 0.0269 - acc: 0.9906 - val_loss: 0.5763 - val_acc: 0.8965\n",
      "Epoch 73/200\n",
      "500/500 [==============================] - 212s 423ms/step - loss: 0.0250 - acc: 0.9910 - val_loss: 0.5586 - val_acc: 0.8983\n",
      "Epoch 74/200\n",
      "500/500 [==============================] - 212s 423ms/step - loss: 0.0255 - acc: 0.9917 - val_loss: 0.5209 - val_acc: 0.9040\n",
      "Epoch 75/200\n",
      "500/500 [==============================] - 211s 423ms/step - loss: 0.0255 - acc: 0.9916 - val_loss: 0.6116 - val_acc: 0.8895\n",
      "Epoch 76/200\n",
      "500/500 [==============================] - 211s 423ms/step - loss: 0.0253 - acc: 0.9911 - val_loss: 0.5098 - val_acc: 0.9000\n",
      "Epoch 77/200\n",
      "500/500 [==============================] - 211s 423ms/step - loss: 0.0259 - acc: 0.9913 - val_loss: 0.5637 - val_acc: 0.8952\n",
      "Epoch 78/200\n",
      "500/500 [==============================] - 211s 423ms/step - loss: 0.0251 - acc: 0.9917 - val_loss: 0.5345 - val_acc: 0.9014\n",
      "Epoch 79/200\n",
      "500/500 [==============================] - 211s 423ms/step - loss: 0.0199 - acc: 0.9932 - val_loss: 0.5224 - val_acc: 0.9060\n",
      "Epoch 80/200\n",
      "500/500 [==============================] - 211s 423ms/step - loss: 0.0258 - acc: 0.9914 - val_loss: 0.5284 - val_acc: 0.9051\n",
      "Epoch 81/200\n",
      "500/500 [==============================] - 211s 423ms/step - loss: 0.0249 - acc: 0.9915 - val_loss: 0.5187 - val_acc: 0.9084\n",
      "Epoch 82/200\n",
      "500/500 [==============================] - 211s 423ms/step - loss: 0.0209 - acc: 0.9928 - val_loss: 0.5447 - val_acc: 0.9060\n",
      "Epoch 83/200\n",
      "500/500 [==============================] - 211s 423ms/step - loss: 0.0241 - acc: 0.9924 - val_loss: 0.5082 - val_acc: 0.9073\n",
      "Epoch 84/200\n",
      "500/500 [==============================] - 211s 423ms/step - loss: 0.0238 - acc: 0.9915 - val_loss: 0.6438 - val_acc: 0.8918\n",
      "Epoch 85/200\n",
      "500/500 [==============================] - 211s 423ms/step - loss: 0.0219 - acc: 0.9929 - val_loss: 0.5310 - val_acc: 0.9089\n",
      "Epoch 86/200\n",
      "500/500 [==============================] - 211s 422ms/step - loss: 0.0175 - acc: 0.9943 - val_loss: 0.5984 - val_acc: 0.8982\n",
      "Epoch 87/200\n",
      "500/500 [==============================] - 211s 423ms/step - loss: 0.0223 - acc: 0.9924 - val_loss: 0.6029 - val_acc: 0.8955\n",
      "Epoch 88/200\n",
      "500/500 [==============================] - 211s 423ms/step - loss: 0.0219 - acc: 0.9922 - val_loss: 0.5540 - val_acc: 0.8986\n",
      "Epoch 89/200\n",
      "500/500 [==============================] - 211s 423ms/step - loss: 0.0202 - acc: 0.9933 - val_loss: 0.5429 - val_acc: 0.9033\n",
      "Epoch 90/200\n",
      "500/500 [==============================] - 211s 422ms/step - loss: 0.0224 - acc: 0.9924 - val_loss: 0.5770 - val_acc: 0.9026\n",
      "Epoch 91/200\n",
      "500/500 [==============================] - 211s 423ms/step - loss: 0.0210 - acc: 0.9925 - val_loss: 0.5276 - val_acc: 0.9050\n",
      "Epoch 92/200\n",
      "500/500 [==============================] - 211s 423ms/step - loss: 0.0212 - acc: 0.9926 - val_loss: 0.5525 - val_acc: 0.9068\n",
      "Epoch 93/200\n",
      "500/500 [==============================] - 211s 423ms/step - loss: 0.0219 - acc: 0.9924 - val_loss: 0.5390 - val_acc: 0.9010\n",
      "Epoch 94/200\n",
      "500/500 [==============================] - 212s 423ms/step - loss: 0.0193 - acc: 0.9932 - val_loss: 0.5813 - val_acc: 0.9005\n",
      "Epoch 95/200\n",
      "500/500 [==============================] - 212s 423ms/step - loss: 0.0199 - acc: 0.9928 - val_loss: 0.6004 - val_acc: 0.8954\n",
      "Epoch 96/200\n",
      "500/500 [==============================] - 211s 422ms/step - loss: 0.0193 - acc: 0.9934 - val_loss: 0.5976 - val_acc: 0.8988\n",
      "Epoch 97/200\n",
      "500/500 [==============================] - 212s 423ms/step - loss: 0.0147 - acc: 0.9951 - val_loss: 0.6044 - val_acc: 0.8939\n",
      "Epoch 98/200\n",
      "500/500 [==============================] - 211s 423ms/step - loss: 0.0234 - acc: 0.9922 - val_loss: 0.6169 - val_acc: 0.8959\n",
      "Epoch 99/200\n",
      "500/500 [==============================] - 211s 423ms/step - loss: 0.0165 - acc: 0.9944 - val_loss: 0.5766 - val_acc: 0.9007\n",
      "Epoch 100/200\n",
      "500/500 [==============================] - 211s 423ms/step - loss: 0.0195 - acc: 0.9931 - val_loss: 0.6179 - val_acc: 0.8997\n",
      "Epoch 101/200\n",
      "500/500 [==============================] - 211s 423ms/step - loss: 0.0228 - acc: 0.9924 - val_loss: 0.5449 - val_acc: 0.9027\n",
      "Epoch 102/200\n",
      "500/500 [==============================] - 211s 422ms/step - loss: 0.0167 - acc: 0.9943 - val_loss: 0.5782 - val_acc: 0.9060\n",
      "Epoch 103/200\n",
      "500/500 [==============================] - 211s 423ms/step - loss: 0.0178 - acc: 0.9939 - val_loss: 0.7143 - val_acc: 0.8856\n",
      "Epoch 104/200\n",
      "500/500 [==============================] - 211s 423ms/step - loss: 0.0167 - acc: 0.9943 - val_loss: 0.5806 - val_acc: 0.8967\n",
      "Epoch 105/200\n",
      "500/500 [==============================] - 211s 423ms/step - loss: 0.0187 - acc: 0.9934 - val_loss: 0.5830 - val_acc: 0.9019\n",
      "Epoch 106/200\n",
      "500/500 [==============================] - 211s 423ms/step - loss: 0.0183 - acc: 0.9936 - val_loss: 0.5388 - val_acc: 0.9088\n",
      "Epoch 107/200\n",
      "500/500 [==============================] - 211s 422ms/step - loss: 0.0184 - acc: 0.9941 - val_loss: 0.5937 - val_acc: 0.9019\n",
      "Epoch 108/200\n",
      "500/500 [==============================] - 211s 423ms/step - loss: 0.0161 - acc: 0.9944 - val_loss: 0.5874 - val_acc: 0.9018\n",
      "Epoch 109/200\n",
      "500/500 [==============================] - 211s 422ms/step - loss: 0.0162 - acc: 0.9946 - val_loss: 0.5222 - val_acc: 0.9088\n",
      "Epoch 110/200\n",
      "500/500 [==============================] - 211s 423ms/step - loss: 0.0186 - acc: 0.9936 - val_loss: 0.5948 - val_acc: 0.9004\n",
      "Epoch 111/200\n",
      "500/500 [==============================] - 211s 423ms/step - loss: 0.0128 - acc: 0.9958 - val_loss: 0.6316 - val_acc: 0.8977\n",
      "Epoch 112/200\n",
      "500/500 [==============================] - 211s 422ms/step - loss: 0.0183 - acc: 0.9934 - val_loss: 0.6274 - val_acc: 0.9006\n",
      "Epoch 113/200\n",
      "500/500 [==============================] - 211s 423ms/step - loss: 0.0190 - acc: 0.9936 - val_loss: 0.5611 - val_acc: 0.9070\n",
      "Epoch 114/200\n",
      "500/500 [==============================] - 212s 423ms/step - loss: 0.0161 - acc: 0.9943 - val_loss: 0.5340 - val_acc: 0.9078\n",
      "Epoch 115/200\n",
      "500/500 [==============================] - 213s 425ms/step - loss: 0.0152 - acc: 0.9951 - val_loss: 0.5687 - val_acc: 0.9041\n",
      "Epoch 116/200\n",
      "500/500 [==============================] - 211s 423ms/step - loss: 0.0161 - acc: 0.9946 - val_loss: 0.6133 - val_acc: 0.8975\n",
      "Epoch 117/200\n",
      "500/500 [==============================] - 211s 422ms/step - loss: 0.0167 - acc: 0.9940 - val_loss: 0.6475 - val_acc: 0.8938\n",
      "Epoch 118/200\n",
      "500/500 [==============================] - 211s 423ms/step - loss: 0.0149 - acc: 0.9950 - val_loss: 0.5556 - val_acc: 0.9063\n",
      "Epoch 119/200\n"
     ]
    },
    {
     "name": "stdout",
     "output_type": "stream",
     "text": [
      "500/500 [==============================] - 211s 423ms/step - loss: 0.0136 - acc: 0.9955 - val_loss: 0.5726 - val_acc: 0.9046\n",
      "Epoch 120/200\n",
      "500/500 [==============================] - 211s 422ms/step - loss: 0.0159 - acc: 0.9946 - val_loss: 0.5433 - val_acc: 0.9088\n",
      "Epoch 121/200\n",
      "500/500 [==============================] - 211s 423ms/step - loss: 0.0160 - acc: 0.9944 - val_loss: 0.5780 - val_acc: 0.9052\n",
      "Epoch 122/200\n",
      "500/500 [==============================] - 211s 422ms/step - loss: 0.0171 - acc: 0.9942 - val_loss: 0.5470 - val_acc: 0.9040\n",
      "Epoch 123/200\n",
      "500/500 [==============================] - 211s 422ms/step - loss: 0.0152 - acc: 0.9951 - val_loss: 0.5889 - val_acc: 0.9006\n",
      "Epoch 124/200\n",
      "500/500 [==============================] - 211s 422ms/step - loss: 0.0153 - acc: 0.9948 - val_loss: 0.5881 - val_acc: 0.9050\n",
      "Epoch 125/200\n",
      "500/500 [==============================] - 211s 423ms/step - loss: 0.0145 - acc: 0.9951 - val_loss: 0.5964 - val_acc: 0.9016\n",
      "Epoch 126/200\n",
      "500/500 [==============================] - 211s 423ms/step - loss: 0.0151 - acc: 0.9948 - val_loss: 0.5533 - val_acc: 0.9106\n",
      "Epoch 127/200\n",
      "500/500 [==============================] - 211s 423ms/step - loss: 0.0146 - acc: 0.9953 - val_loss: 0.6197 - val_acc: 0.9000\n",
      "Epoch 128/200\n",
      "500/500 [==============================] - 211s 423ms/step - loss: 0.0146 - acc: 0.9953 - val_loss: 0.5865 - val_acc: 0.9016\n",
      "Epoch 129/200\n",
      "500/500 [==============================] - 211s 422ms/step - loss: 0.0148 - acc: 0.9953 - val_loss: 0.6194 - val_acc: 0.8983\n",
      "Epoch 130/200\n",
      "500/500 [==============================] - 211s 423ms/step - loss: 0.0141 - acc: 0.9955 - val_loss: 0.5585 - val_acc: 0.9066\n",
      "Epoch 131/200\n",
      "500/500 [==============================] - 211s 423ms/step - loss: 0.0143 - acc: 0.9952 - val_loss: 0.5946 - val_acc: 0.9030\n",
      "Epoch 132/200\n",
      "500/500 [==============================] - 211s 422ms/step - loss: 0.0138 - acc: 0.9950 - val_loss: 0.6098 - val_acc: 0.9005\n",
      "Epoch 133/200\n",
      "500/500 [==============================] - 211s 422ms/step - loss: 0.0156 - acc: 0.9948 - val_loss: 0.6405 - val_acc: 0.8986\n",
      "Epoch 134/200\n",
      "500/500 [==============================] - 211s 423ms/step - loss: 0.0137 - acc: 0.9955 - val_loss: 0.5745 - val_acc: 0.9070\n",
      "Epoch 135/200\n",
      "500/500 [==============================] - 211s 423ms/step - loss: 0.0109 - acc: 0.9964 - val_loss: 0.6099 - val_acc: 0.8998\n",
      "Epoch 136/200\n",
      "500/500 [==============================] - 211s 422ms/step - loss: 0.0148 - acc: 0.9951 - val_loss: 0.6039 - val_acc: 0.9023\n",
      "Epoch 137/200\n",
      "500/500 [==============================] - 211s 423ms/step - loss: 0.0132 - acc: 0.9955 - val_loss: 0.6755 - val_acc: 0.8917\n",
      "Epoch 138/200\n",
      "500/500 [==============================] - 211s 423ms/step - loss: 0.0140 - acc: 0.9948 - val_loss: 0.5823 - val_acc: 0.9039\n",
      "Epoch 139/200\n",
      "500/500 [==============================] - 211s 422ms/step - loss: 0.0131 - acc: 0.9957 - val_loss: 0.5593 - val_acc: 0.9061\n",
      "Epoch 140/200\n",
      "500/500 [==============================] - 211s 423ms/step - loss: 0.0130 - acc: 0.9956 - val_loss: 0.5402 - val_acc: 0.9083\n",
      "Epoch 141/200\n",
      "500/500 [==============================] - 211s 422ms/step - loss: 0.0128 - acc: 0.9958 - val_loss: 0.5576 - val_acc: 0.9033\n",
      "Epoch 142/200\n",
      "500/500 [==============================] - 212s 423ms/step - loss: 0.0139 - acc: 0.9952 - val_loss: 0.5511 - val_acc: 0.9078\n",
      "Epoch 143/200\n",
      "500/500 [==============================] - 211s 423ms/step - loss: 0.0120 - acc: 0.9960 - val_loss: 0.6286 - val_acc: 0.9021\n",
      "Epoch 144/200\n",
      "500/500 [==============================] - 211s 423ms/step - loss: 0.0115 - acc: 0.9962 - val_loss: 0.6815 - val_acc: 0.8998\n",
      "Epoch 145/200\n",
      "500/500 [==============================] - 211s 423ms/step - loss: 0.0130 - acc: 0.9956 - val_loss: 0.5764 - val_acc: 0.9075\n",
      "Epoch 146/200\n",
      "500/500 [==============================] - 211s 423ms/step - loss: 0.0149 - acc: 0.9948 - val_loss: 0.6625 - val_acc: 0.8959\n",
      "Epoch 147/200\n",
      "500/500 [==============================] - 211s 423ms/step - loss: 0.0138 - acc: 0.9953 - val_loss: 0.5691 - val_acc: 0.9064\n",
      "Epoch 148/200\n",
      "500/500 [==============================] - 211s 423ms/step - loss: 0.0113 - acc: 0.9963 - val_loss: 0.6109 - val_acc: 0.9025\n",
      "Epoch 149/200\n",
      "500/500 [==============================] - 211s 423ms/step - loss: 0.0114 - acc: 0.9962 - val_loss: 0.5664 - val_acc: 0.9067\n",
      "Epoch 150/200\n",
      "500/500 [==============================] - 211s 423ms/step - loss: 0.0105 - acc: 0.9963 - val_loss: 0.5863 - val_acc: 0.9066\n",
      "Epoch 151/200\n",
      "500/500 [==============================] - 211s 423ms/step - loss: 0.0132 - acc: 0.9955 - val_loss: 0.5212 - val_acc: 0.9152\n",
      "Epoch 152/200\n",
      "500/500 [==============================] - 211s 422ms/step - loss: 0.0135 - acc: 0.9960 - val_loss: 0.5376 - val_acc: 0.9139\n",
      "Epoch 153/200\n",
      "500/500 [==============================] - 211s 422ms/step - loss: 0.0116 - acc: 0.9964 - val_loss: 0.5899 - val_acc: 0.9046\n",
      "Epoch 154/200\n",
      "500/500 [==============================] - 211s 423ms/step - loss: 0.0105 - acc: 0.9965 - val_loss: 0.5348 - val_acc: 0.9077\n",
      "Epoch 155/200\n",
      "500/500 [==============================] - 211s 422ms/step - loss: 0.0116 - acc: 0.9961 - val_loss: 0.5773 - val_acc: 0.9049\n",
      "Epoch 156/200\n",
      "500/500 [==============================] - 211s 422ms/step - loss: 0.0164 - acc: 0.9949 - val_loss: 0.5598 - val_acc: 0.9070\n",
      "Epoch 157/200\n",
      "500/500 [==============================] - 211s 422ms/step - loss: 0.0108 - acc: 0.9962 - val_loss: 0.6091 - val_acc: 0.8982\n",
      "Epoch 158/200\n",
      "500/500 [==============================] - 211s 423ms/step - loss: 0.0141 - acc: 0.9952 - val_loss: 0.5927 - val_acc: 0.9005\n",
      "Epoch 159/200\n",
      "500/500 [==============================] - 211s 423ms/step - loss: 0.0092 - acc: 0.9967 - val_loss: 0.5658 - val_acc: 0.9066\n",
      "Epoch 160/200\n",
      "500/500 [==============================] - 211s 423ms/step - loss: 0.0105 - acc: 0.9964 - val_loss: 0.6117 - val_acc: 0.9053\n",
      "Epoch 161/200\n",
      "500/500 [==============================] - 211s 422ms/step - loss: 0.0118 - acc: 0.9960 - val_loss: 0.5683 - val_acc: 0.9057\n",
      "Epoch 162/200\n",
      "500/500 [==============================] - 211s 423ms/step - loss: 0.0106 - acc: 0.9962 - val_loss: 0.6891 - val_acc: 0.8938\n",
      "Epoch 163/200\n",
      "500/500 [==============================] - 211s 422ms/step - loss: 0.0101 - acc: 0.9969 - val_loss: 0.6331 - val_acc: 0.9019\n",
      "Epoch 164/200\n",
      "500/500 [==============================] - 211s 423ms/step - loss: 0.0144 - acc: 0.9955 - val_loss: 0.5324 - val_acc: 0.9120\n",
      "Epoch 165/200\n",
      "500/500 [==============================] - 211s 422ms/step - loss: 0.0087 - acc: 0.9973 - val_loss: 0.5873 - val_acc: 0.9077\n",
      "Epoch 166/200\n",
      "500/500 [==============================] - 211s 422ms/step - loss: 0.0124 - acc: 0.9961 - val_loss: 0.6245 - val_acc: 0.9033\n",
      "Epoch 167/200\n",
      "500/500 [==============================] - 211s 422ms/step - loss: 0.0127 - acc: 0.9957 - val_loss: 0.5754 - val_acc: 0.9059\n",
      "Epoch 168/200\n",
      "500/500 [==============================] - 211s 422ms/step - loss: 0.0107 - acc: 0.9965 - val_loss: 0.5556 - val_acc: 0.9083\n",
      "Epoch 169/200\n",
      "500/500 [==============================] - 211s 422ms/step - loss: 0.0093 - acc: 0.9968 - val_loss: 0.6241 - val_acc: 0.8995\n",
      "Epoch 170/200\n",
      "500/500 [==============================] - 211s 423ms/step - loss: 0.0094 - acc: 0.9969 - val_loss: 0.6885 - val_acc: 0.8997\n",
      "Epoch 171/200\n",
      "500/500 [==============================] - 211s 423ms/step - loss: 0.0120 - acc: 0.9959 - val_loss: 0.5773 - val_acc: 0.9085\n",
      "Epoch 172/200\n",
      "500/500 [==============================] - 211s 423ms/step - loss: 0.0128 - acc: 0.9954 - val_loss: 0.5458 - val_acc: 0.9130\n",
      "Epoch 173/200\n",
      "500/500 [==============================] - 211s 422ms/step - loss: 0.0101 - acc: 0.9964 - val_loss: 0.5046 - val_acc: 0.9148\n",
      "Epoch 174/200\n",
      "500/500 [==============================] - 211s 422ms/step - loss: 0.0098 - acc: 0.9969 - val_loss: 0.6187 - val_acc: 0.9001\n",
      "Epoch 175/200\n",
      "500/500 [==============================] - 211s 422ms/step - loss: 0.0111 - acc: 0.9963 - val_loss: 0.5679 - val_acc: 0.9082\n",
      "Epoch 176/200\n",
      "500/500 [==============================] - 211s 423ms/step - loss: 0.0106 - acc: 0.9963 - val_loss: 0.6285 - val_acc: 0.9009\n",
      "Epoch 177/200\n",
      "500/500 [==============================] - 211s 422ms/step - loss: 0.0086 - acc: 0.9971 - val_loss: 0.5968 - val_acc: 0.9067\n",
      "Epoch 178/200\n"
     ]
    },
    {
     "name": "stdout",
     "output_type": "stream",
     "text": [
      "500/500 [==============================] - 211s 423ms/step - loss: 0.0105 - acc: 0.9968 - val_loss: 0.6750 - val_acc: 0.8980\n",
      "Epoch 179/200\n",
      "500/500 [==============================] - 211s 423ms/step - loss: 0.0123 - acc: 0.9955 - val_loss: 0.5889 - val_acc: 0.9084\n",
      "Epoch 180/200\n",
      "500/500 [==============================] - 211s 423ms/step - loss: 0.0126 - acc: 0.9961 - val_loss: 0.5515 - val_acc: 0.9088\n",
      "Epoch 181/200\n",
      "500/500 [==============================] - 211s 422ms/step - loss: 0.0105 - acc: 0.9966 - val_loss: 0.6304 - val_acc: 0.8998\n",
      "Epoch 182/200\n",
      "500/500 [==============================] - 211s 422ms/step - loss: 0.0071 - acc: 0.9974 - val_loss: 0.6608 - val_acc: 0.8995\n",
      "Epoch 183/200\n",
      "500/500 [==============================] - 211s 422ms/step - loss: 0.0081 - acc: 0.9973 - val_loss: 0.6941 - val_acc: 0.9001\n",
      "Epoch 184/200\n",
      "500/500 [==============================] - 211s 422ms/step - loss: 0.0092 - acc: 0.9967 - val_loss: 0.5940 - val_acc: 0.9082\n",
      "Epoch 185/200\n",
      "500/500 [==============================] - 211s 422ms/step - loss: 0.0106 - acc: 0.9965 - val_loss: 0.6384 - val_acc: 0.8984\n",
      "Epoch 186/200\n",
      "500/500 [==============================] - 211s 422ms/step - loss: 0.0089 - acc: 0.9970 - val_loss: 0.5663 - val_acc: 0.9109\n",
      "Epoch 187/200\n",
      "500/500 [==============================] - 211s 422ms/step - loss: 0.0129 - acc: 0.9958 - val_loss: 0.6149 - val_acc: 0.9013\n",
      "Epoch 188/200\n",
      "500/500 [==============================] - 211s 423ms/step - loss: 0.0098 - acc: 0.9968 - val_loss: 0.5655 - val_acc: 0.9082\n",
      "Epoch 189/200\n",
      "500/500 [==============================] - 211s 422ms/step - loss: 0.0080 - acc: 0.9974 - val_loss: 0.5999 - val_acc: 0.9079\n",
      "Epoch 190/200\n",
      "500/500 [==============================] - 211s 422ms/step - loss: 0.0108 - acc: 0.9966 - val_loss: 0.6681 - val_acc: 0.9007\n",
      "Epoch 191/200\n",
      "500/500 [==============================] - 211s 422ms/step - loss: 0.0099 - acc: 0.9969 - val_loss: 0.6056 - val_acc: 0.9027\n",
      "Epoch 192/200\n",
      "500/500 [==============================] - 211s 422ms/step - loss: 0.0088 - acc: 0.9969 - val_loss: 0.5846 - val_acc: 0.9087\n",
      "Epoch 193/200\n",
      "500/500 [==============================] - 211s 422ms/step - loss: 0.0089 - acc: 0.9971 - val_loss: 0.6846 - val_acc: 0.8956\n",
      "Epoch 194/200\n",
      "500/500 [==============================] - 211s 422ms/step - loss: 0.0116 - acc: 0.9964 - val_loss: 0.6462 - val_acc: 0.9010\n",
      "Epoch 195/200\n",
      "500/500 [==============================] - 211s 423ms/step - loss: 0.0083 - acc: 0.9972 - val_loss: 0.6252 - val_acc: 0.9041\n",
      "Epoch 196/200\n",
      "500/500 [==============================] - 211s 423ms/step - loss: 0.0073 - acc: 0.9975 - val_loss: 0.6169 - val_acc: 0.9092\n",
      "Epoch 197/200\n",
      "500/500 [==============================] - 211s 422ms/step - loss: 0.0083 - acc: 0.9972 - val_loss: 0.5961 - val_acc: 0.9045\n",
      "Epoch 198/200\n",
      "500/500 [==============================] - 211s 422ms/step - loss: 0.0120 - acc: 0.9959 - val_loss: 0.6110 - val_acc: 0.9051\n",
      "Epoch 199/200\n",
      "500/500 [==============================] - 211s 423ms/step - loss: 0.0110 - acc: 0.9966 - val_loss: 0.6022 - val_acc: 0.9052\n",
      "Epoch 200/200\n",
      "500/500 [==============================] - 211s 423ms/step - loss: 0.0065 - acc: 0.9979 - val_loss: 0.6143 - val_acc: 0.9095\n"
     ]
    },
    {
     "data": {
      "text/plain": [
       "<keras.callbacks.History at 0x1714cb0c3c8>"
      ]
     },
     "execution_count": 17,
     "metadata": {},
     "output_type": "execute_result"
    }
   ],
   "source": [
    "model.fit_generator(datagen.flow(X_train, Y_train,\n",
    "                                 batch_size=batch_size),\n",
    "                    steps_per_epoch=X_train.shape[0] // batch_size,\n",
    "                    epochs=epochs,\n",
    "                    validation_data=(X_test, Y_test),validation_steps=X_test.shape[0] // batch_size, callbacks=[history])"
   ]
  },
  {
   "cell_type": "code",
   "execution_count": 18,
   "metadata": {},
   "outputs": [],
   "source": [
    "pre = model.predict(X_test)"
   ]
  },
  {
   "cell_type": "code",
   "execution_count": 22,
   "metadata": {},
   "outputs": [],
   "source": [
    "inverted = np.argmax(pre, axis=1)"
   ]
  },
  {
   "cell_type": "code",
   "execution_count": 23,
   "metadata": {},
   "outputs": [
    {
     "data": {
      "text/plain": [
       "array([3, 8, 1, ..., 5, 1, 7], dtype=int64)"
      ]
     },
     "execution_count": 23,
     "metadata": {},
     "output_type": "execute_result"
    }
   ],
   "source": [
    "inverted"
   ]
  },
  {
   "cell_type": "code",
   "execution_count": 24,
   "metadata": {},
   "outputs": [],
   "source": [
    "import pandas as pd\n",
    "df = pd.DataFrame({'pre': inverted\n",
    "                  })"
   ]
  },
  {
   "cell_type": "code",
   "execution_count": 26,
   "metadata": {},
   "outputs": [],
   "source": [
    "df.to_csv(\"zca_aug_prediction.csv\")"
   ]
  },
  {
   "cell_type": "code",
   "execution_count": 21,
   "metadata": {},
   "outputs": [
    {
     "data": {
      "text/plain": [
       "[<matplotlib.lines.Line2D at 0x1d1c0124160>]"
      ]
     },
     "execution_count": 21,
     "metadata": {},
     "output_type": "execute_result"
    },
    {
     "data": {
      "image/png": "[encoded data removed]",
      "text/plain": [
       "<Figure size 432x288 with 1 Axes>"
      ]
     },
     "metadata": {},
     "output_type": "display_data"
    }
   ],
   "source": [
    "import matplotlib.pyplot as plt\n",
    "plt.plot(range(1,201),df['test_acc'])\n",
    "plt.plot(range(1,201),df['train_acc'])"
   ]
  },
  {
   "cell_type": "code",
   "execution_count": 23,
   "metadata": {},
   "outputs": [
    {
     "data": {
      "text/plain": [
       "0.9168000018596649"
      ]
     },
     "execution_count": 23,
     "metadata": {},
     "output_type": "execute_result"
    }
   ],
   "source": [
    "np.max(df['test_acc'])"
   ]
  },
  {
   "cell_type": "code",
   "execution_count": 27,
   "metadata": {},
   "outputs": [],
   "source": [
    "from sklearn.metrics import confusion_matrix\n",
    "(X_train, Y_train), (X_test, Y_test) = cifar10.load_data()\n",
    "conf_arr = confusion_matrix(inverted, Y_test)"
   ]
  },
  {
   "cell_type": "code",
   "execution_count": 28,
   "metadata": {},
   "outputs": [
    {
     "data": {
      "text/plain": [
       "array([[951,   5,  16,  21,   7,   9,   5,   7,  30,   9],\n",
       "       [  1, 965,   0,   2,   1,   2,   0,   0,  12,  22],\n",
       "       [ 18,   0, 890,  31,  20,  24,  15,  10,   4,   2],\n",
       "       [  0,   0,  12, 759,   7,  76,   6,   9,   2,   0],\n",
       "       [  5,   0,  25,  32, 911,  24,   6,  15,   1,   0],\n",
       "       [  0,   0,  19,  80,   8, 823,   2,   9,   0,   0],\n",
       "       [  5,   1,  29,  47,  28,  21, 962,   2,   3,   1],\n",
       "       [  1,   2,   5,  13,  14,  15,   2, 943,   3,   0],\n",
       "       [ 14,   2,   2,   4,   1,   0,   1,   0, 930,   5],\n",
       "       [  5,  25,   2,  11,   3,   6,   1,   5,  15, 961]], dtype=int64)"
      ]
     },
     "execution_count": 28,
     "metadata": {},
     "output_type": "execute_result"
    }
   ],
   "source": [
    "conf_arr"
   ]
  },
  {
   "cell_type": "code",
   "execution_count": 59,
   "metadata": {},
   "outputs": [],
   "source": [
    "import itertools\n",
    "import matplotlib.pyplot as plt\n",
    "\n",
    "\n",
    "def plot_confusion_matrix(cm, classes,\n",
    "                          normalize=False,\n",
    "                          title='Confusion matrix',\n",
    "                          cmap=plt.cm.Blues):\n",
    "    \"\"\"\n",
    "    This function prints and plots the confusion matrix.\n",
    "    Normalization can be applied by setting `normalize=True`.\n",
    "    \"\"\"\n",
    "    if normalize:\n",
    "        cm = cm.astype('float') / cm.sum(axis=1)[:, np.newaxis]\n",
    "        print(\"Normalized confusion matrix\")\n",
    "    else:\n",
    "        print('Confusion matrix, without normalization')\n",
    "\n",
    "    plt.imshow(cm, interpolation='nearest', cmap=cmap)\n",
    "    plt.title(title, fontsize=28)\n",
    "    plt.colorbar()\n",
    "    tick_marks = np.arange(len(classes))\n",
    "    plt.xticks(tick_marks, classes, rotation=45, fontsize=18)\n",
    "    plt.yticks(tick_marks, classes, fontsize=18)\n",
    "\n",
    "    fmt = '.2f' if normalize else 'd'\n",
    "    thresh = cm.max() / 2.\n",
    "    for i, j in itertools.product(range(cm.shape[0]), range(cm.shape[1])):\n",
    "        plt.text(j, i, format(cm[i, j], fmt), fontsize=18,\n",
    "                 horizontalalignment=\"center\",\n",
    "                 color=\"white\" if cm[i, j] > thresh else \"black\")\n",
    "\n",
    "    plt.tight_layout()\n",
    "    plt.ylabel('True label', fontsize=28)\n",
    "    plt.xlabel('Predicted label', fontsize=28)"
   ]
  },
  {
   "cell_type": "code",
   "execution_count": 60,
   "metadata": {},
   "outputs": [
    {
     "name": "stdout",
     "output_type": "stream",
     "text": [
      "Normalized confusion matrix\n"
     ]
    },
    {
     "data": {
      "text/plain": [
       "<Figure size 2880x2880 with 0 Axes>"
      ]
     },
     "metadata": {},
     "output_type": "display_data"
    },
    {
     "data": {
      "image/png": "[encoded data removed]",
      "text/plain": [
       "<Figure size 864x864 with 2 Axes>"
      ]
     },
     "metadata": {},
     "output_type": "display_data"
    }
   ],
   "source": [
    "import matplotlib\n",
    "class_names = [\"airplane\",\"automobile\",\"bird\",\"cat\",\"deer\",\"dog\",\"frog\",\"horse\",\"ship\",\"truck\"]\n",
    "plt.figure(figsize=(40,40))\n",
    "\n",
    "# Plot normalized confusion matrix\n",
    "plt.figure()\n",
    "plot_confusion_matrix(conf_arr, classes=class_names, normalize=True,\n",
    "                      title='Normalized confusion matrix')\n",
    "fig = matplotlib.pyplot.gcf()\n",
    "fig.set_size_inches(12, 12)\n",
    "fig.savefig('tt.png')\n",
    "plt.show()"
   ]
  },
  {
   "cell_type": "code",
   "execution_count": null,
   "metadata": {},
   "outputs": [],
   "source": []
  }
 ],
 "metadata": {
  "kernelspec": {
   "display_name": "Python 3",
   "language": "python",
   "name": "python3"
  },
  "language_info": {
   "codemirror_mode": {
    "name": "ipython",
    "version": 3
   },
   "file_extension": ".py",
   "mimetype": "text/x-python",
   "name": "python",
   "nbconvert_exporter": "python",
   "pygments_lexer": "ipython3",
   "version": "3.5.5"
  }
 },
 "nbformat": 4,
 "nbformat_minor": 2
}
